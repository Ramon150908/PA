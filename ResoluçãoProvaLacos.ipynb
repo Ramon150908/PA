{
  "cells": [
    {
      "cell_type": "markdown",
      "metadata": {
        "id": "view-in-github",
        "colab_type": "text"
      },
      "source": [
        "<a href=\"https://colab.research.google.com/github/Ramon150908/PA/blob/main/Resolu%C3%A7%C3%A3oProvaLacos.ipynb\" target=\"_parent\"><img src=\"https://colab.research.google.com/assets/colab-badge.svg\" alt=\"Open In Colab\"/></a>"
      ]
    },
    {
      "cell_type": "code",
      "execution_count": null,
      "metadata": {
        "id": "71Cka2qXMnFg",
        "collapsed": true
      },
      "outputs": [],
      "source": [
        "erro = 0\n",
        "import random\n",
        "num = random.randint(0,100)\n",
        "\n",
        "tent = int (input(\"Qual o seu palpite? \"))\n",
        "while tent != num:\n",
        "\n",
        "  if tent < 0 or tent > 100:\n",
        "    print(\"numero invalido\")\n",
        "    erro = erro + 1\n",
        "    tent = int (input(\"Tente novamente: \"))\n",
        "  if tent < num:\n",
        "    print(\"Um pouco mais\")\n",
        "    tent = int (input(\"Tente novamente: \"))\n",
        "    erro = erro + 1\n",
        "    calc = tent - num\n",
        "    if calc <= 5:\n",
        "      print(\"Muito quente\")\n",
        "\n",
        "  if tent > num:\n",
        "    print(\"um pouco menos\")\n",
        "    tent = int (input(\"Tente novamente: \"))\n",
        "    erro = erro + 1\n",
        "if tent == num:\n",
        "    break\n",
        "\n",
        "print(\"Parabens, voce acertou!\")\n",
        "print(\"Você precisou de\", erro,\"tentativas\")"
      ]
    },
    {
      "cell_type": "code",
      "execution_count": null,
      "metadata": {
        "id": "K5n2wBryP8GQ"
      },
      "outputs": [],
      "source": [
        "cond = True\n",
        "print(\"Dígite 0 para \")\n",
        "while cond == True:\n",
        "  prc = float(input(\"Digite o preço do produto:\"))\n",
        "  if prc == 0:\n",
        "    break\n",
        "prc = prc + prc"
      ]
    }
  ],
  "metadata": {
    "colab": {
      "provenance": [],
      "authorship_tag": "ABX9TyM4kzy4Um2PyouGT228mcrJ",
      "include_colab_link": true
    },
    "kernelspec": {
      "display_name": "Python 3",
      "name": "python3"
    },
    "language_info": {
      "name": "python"
    }
  },
  "nbformat": 4,
  "nbformat_minor": 0
}