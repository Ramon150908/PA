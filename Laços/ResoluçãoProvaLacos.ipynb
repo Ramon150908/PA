{
  "cells": [
    {
      "cell_type": "markdown",
      "metadata": {
        "id": "view-in-github",
        "colab_type": "text"
      },
      "source": [
        "<a href=\"https://colab.research.google.com/github/Ramon150908/PA/blob/main/La%C3%A7os/Resolu%C3%A7%C3%A3oProvaLacos.ipynb\" target=\"_parent\"><img src=\"https://colab.research.google.com/assets/colab-badge.svg\" alt=\"Open In Colab\"/></a>"
      ]
    },
    {
      "cell_type": "code",
      "execution_count": null,
      "metadata": {
        "id": "71Cka2qXMnFg",
        "collapsed": true
      },
      "outputs": [],
      "source": [
        "from math import e\n",
        "print(\"adivinhe o número de 1 a 100 \")\n",
        "print(\"você começa com 10 pontos\")\n",
        "import random\n",
        "N_e = random.randint(1, 100)\n",
        "palpite = 0\n",
        "tent = 0\n",
        "pontos = 10\n",
        "\n",
        "while palpite != N_e:\n",
        "  palpite = int(input(\"Digite um número e tente adivinhar: \"))\n",
        "  if palpite <= 0 or N_P > 100:\n",
        "    print(\"número inválido\")\n",
        "    palpite = int(input(\"Digite um número e tente adivinhar: \"))\n",
        "    continue\n",
        "  if N_P > N_e:\n",
        "    print(\"o número está acima\")\n",
        "    tent = tent + 1\n",
        "    pontos = pontos - 1\n",
        "    calc = palpite - N_e\n",
        "    if calc <= 5:\n",
        "      print(\"Esta fervendo\")\n",
        "    elif   calc > 5 and calc <= 10:\n",
        "        print(\"Tá quente\")\n",
        "    elif calc > 10 and calc <= 20:\n",
        "        print(\"Tá frio\")\n",
        "    elif calc > 20:\n",
        "        print(\"Está congelando\")\n",
        "  if palpite < N_e:\n",
        "    print(\"o número está abaixo\")\n",
        "     tent = tent + 1\n",
        "    pontos = pontos - 1\n",
        "    calc = N_e - palpite\n",
        "    if calc <= 5:\n",
        "        print(\"Esta fervendo\")\n",
        "    elif   calc > 5 and calc <= 10:\n",
        "        print(\"Tá quente\")\n",
        "    elif calc > 10 and calc <= 20:\n",
        "        print(\"Tá frio\")\n",
        "    elif calc > 20:\n",
        "        print(\"Está congelando\")\n",
        "  if pontos == 0:\n",
        "    print(\"você perdeu\")\n",
        "    break\n",
        "  else:\n",
        "    print(\"você acertou\")\n",
        "    print(\"você tentou\",  tent , \"vezes\")\n",
        "    print(\"você fez\", pontos, \"pontos\")"
      ]
    },
    {
      "cell_type": "code",
      "execution_count": null,
      "metadata": {
        "id": "K5n2wBryP8GQ"
      },
      "outputs": [],
      "source": [
        "cond = True\n",
        "print(\"Dígite 0 para \")\n",
        "while cond == True:\n",
        "  prc = float(input(\"Digite o preço do produto:\"))\n",
        "  if prc == 0:\n",
        "    break\n",
        "prc = prc + prc"
      ]
    }
  ],
  "metadata": {
    "colab": {
      "provenance": [],
      "authorship_tag": "ABX9TyN+pGjlNKz1H9ezkqZxb09+",
      "include_colab_link": true
    },
    "kernelspec": {
      "display_name": "Python 3",
      "name": "python3"
    },
    "language_info": {
      "name": "python"
    }
  },
  "nbformat": 4,
  "nbformat_minor": 0
}