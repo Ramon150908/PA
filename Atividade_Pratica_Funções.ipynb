{
  "nbformat": 4,
  "nbformat_minor": 0,
  "metadata": {
    "colab": {
      "provenance": [],
      "authorship_tag": "ABX9TyNZJex3Qhkw/62LhKqVhJ7k",
      "include_colab_link": true
    },
    "kernelspec": {
      "name": "python3",
      "display_name": "Python 3"
    },
    "language_info": {
      "name": "python"
    }
  },
  "cells": [
    {
      "cell_type": "markdown",
      "metadata": {
        "id": "view-in-github",
        "colab_type": "text"
      },
      "source": [
        "<a href=\"https://colab.research.google.com/github/Ramon150908/PA/blob/main/Atividade_Pratica_Fun%C3%A7%C3%B5es.ipynb\" target=\"_parent\"><img src=\"https://colab.research.google.com/assets/colab-badge.svg\" alt=\"Open In Colab\"/></a>"
      ]
    },
    {
      "cell_type": "markdown",
      "source": [
        "Atividade Prática de Funções:\n",
        "\n",
        "1) com parâmetro e com retorno:\n",
        "\n",
        "Você foi encarregado de criar um programa para calcular o valor total de uma compra em um supermercado. Crie uma função chamada calcular_total_compra que receba como parâmetro uma lista de preços dos itens comprados e retorne o valor total a ser pago.\n",
        "\n",
        "No programa principal:\n",
        "\n",
        "Peça ao usuário para informar quantos itens ele comprou.\n",
        "Para cada item, solicite o preço e armazene em uma lista.\n",
        "Chame a função e exiba o valor total da compra.\n",
        "\n",
        "Na saída do programa deverá ser assim:\n",
        "\n",
        "Quantos itens você comprou? 3\n",
        "Digite o preço do item 1: 10.50\n",
        "Digite o preço do item 2: 5.20\n",
        "Digite o preço do item 3: 8.30\n",
        "O valor total da compra é: R$ 24.00\n",
        "\n"
      ],
      "metadata": {
        "id": "N28mvgLW2aIL"
      }
    },
    {
      "cell_type": "code",
      "source": [
        "def calcular_total_compra(precos):\n",
        "  total = sum(precos)\n",
        "  return total\n",
        "precos = ()\n",
        "quantidade = int(input(\"Quantos itens você comprou? \"))\n",
        "for i in range(quantidade):\n",
        "  preco = float(input(f\"Digite o preço do item {i+1}: \"))\n",
        "  precos.append(preco)\n",
        "  total = calcular_total_compra(precos)\n",
        "print(f\"O valor total da(s) compra(s) foi\",calcular_total_compra(precos))\n"
      ],
      "metadata": {
        "colab": {
          "base_uri": "https://localhost:8080/"
        },
        "id": "hdrJJQUU2fv_",
        "outputId": "fe8178b4-1dd7-46cd-8a2a-9ecc499bdcf5"
      },
      "execution_count": 4,
      "outputs": [
        {
          "output_type": "stream",
          "name": "stdout",
          "text": [
            "Quantos itens você comprou? 3\n",
            "Digite o preço do item 1: 10.55\n",
            "Digite o preço do item 2: 3.15\n",
            "Digite o preço do item 3: 9.30\n",
            "O valor total da(s) compra(s) foi 23.0\n"
          ]
        }
      ]
    },
    {
      "cell_type": "markdown",
      "source": [
        "2) Função Sem parâmetro e com retorno\n",
        "\n",
        "Você está organizando uma eleição fictícia com três candidatos. Crie uma função chamada realizar_votacao que:\n",
        "\n",
        "Solicite ao usuário que vote em um dos três candidatos, identificados por números (1, 2 ou 3).\n",
        "Permita que a votação continue até que o usuário digite 0 para encerrar.\n",
        "Ao final, exiba o número total de votos para cada candidato.\n",
        "A função não deve receber parâmetros nem retornar valores; apenas realizar a votação e exibir os resultados no final.\n",
        "\n",
        "Vote no seu candidato:\n",
        "1 - Candidato A\n",
        "2 - Candidato B\n",
        "3 - Candidato C\n",
        "Digite 0 para encerrar.\n",
        "Seu voto: 1\n",
        "Seu voto: 3\n",
        "Seu voto: 2\n",
        "Seu voto: 3\n",
        "Seu voto: 0\n",
        "\n",
        "Resultado da votação:\n",
        "Candidato A: 1 voto(s)\n",
        "Candidato B: 1 voto(s)\n",
        "Candidato C: 2 voto(s)"
      ],
      "metadata": {
        "id": "XowCdYMb2iBk"
      }
    },
    {
      "cell_type": "code",
      "source": [
        "def realizar_votacao():\n",
        "  candidatos = [0, 0, 0]\n",
        "\n",
        "  print(\"Vote no seu candidato:\")\n",
        "  print(\"1 - Cleberson\")\n",
        "  print(\"2 - Claudio\")\n",
        "  print(\"3 - Cleiton\")\n",
        "  print(\"Digite 0 para encerrar.\")\n",
        "  while True:\n",
        "    voto = int(input(\"Seu voto: \"))\n",
        "    if voto == 1:\n",
        "      candidatos[0] += 1\n",
        "    elif voto == 2:\n",
        "      candidatos[1] += 1\n",
        "    elif voto == 3:\n",
        "      candidatos[2] += 1\n",
        "    if voto == 0:\n",
        "\n",
        "      print(\"Encerrando a votação.\")\n",
        "      print(\"Resultado da votação:\")\n",
        "      print(\"Cleberson:\", candidatos[0],  \"voto(s)\")\n",
        "      print(\"Claudio:\", candidatos[1], \"voto(s)\")\n",
        "      print(\"Cleiton:\", candidatos[2], \"voto(s)\")\n",
        "      break\n",
        "    elif voto < 1 or voto > 3:\n",
        "      print(\"Voto inválido. Tente novamente.\")\n",
        "      continue\n",
        "      candidatos[voto-1] += 1\n",
        "\n",
        "\n",
        ""
      ],
      "metadata": {
        "id": "eQm3422x2mgI"
      },
      "execution_count": 34,
      "outputs": []
    },
    {
      "cell_type": "code",
      "source": [
        "realizar_votacao()"
      ],
      "metadata": {
        "colab": {
          "base_uri": "https://localhost:8080/"
        },
        "id": "XW6xKOqg5GBc",
        "outputId": "a1f544c8-a23e-4353-fee4-05581b6da83b"
      },
      "execution_count": 35,
      "outputs": [
        {
          "output_type": "stream",
          "name": "stdout",
          "text": [
            "Vote no seu candidato:\n",
            "1 - Cleberson\n",
            "2 - Claudio\n",
            "3 - Cleiton\n",
            "Digite 0 para encerrar.\n",
            "Seu voto: 1\n",
            "Seu voto: 1\n",
            "Seu voto: 1\n",
            "Seu voto: 2\n",
            "Seu voto: 2\n",
            "Seu voto: 3\n",
            "Seu voto: 0\n",
            "Encerrando a votação.\n",
            "Resultado da votação:\n",
            "Cleberson: 3 voto(s)\n",
            "Claudio: 2 voto(s)\n",
            "Cleiton: 1 voto(s)\n"
          ]
        }
      ]
    }
  ]
}