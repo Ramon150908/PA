{
  "nbformat": 4,
  "nbformat_minor": 0,
  "metadata": {
    "colab": {
      "provenance": [],
      "authorship_tag": "ABX9TyM4nikvRndiQi5/sCWWsMp/",
      "include_colab_link": true
    },
    "kernelspec": {
      "name": "python3",
      "display_name": "Python 3"
    },
    "language_info": {
      "name": "python"
    }
  },
  "cells": [
    {
      "cell_type": "markdown",
      "metadata": {
        "id": "view-in-github",
        "colab_type": "text"
      },
      "source": [
        "<a href=\"https://colab.research.google.com/github/Ramon150908/PA/blob/main/Atividade_Pratica_Fun%C3%A7%C3%B5es.ipynb\" target=\"_parent\"><img src=\"https://colab.research.google.com/assets/colab-badge.svg\" alt=\"Open In Colab\"/></a>"
      ]
    },
    {
      "cell_type": "markdown",
      "source": [
        "Atividade Prática de Funções:\n",
        "\n",
        "1) com parâmetro e com retorno:\n",
        "\n",
        "Você foi encarregado de criar um programa para calcular o valor total de uma compra em um supermercado. Crie uma função chamada calcular_total_compra que receba como parâmetro uma lista de preços dos itens comprados e retorne o valor total a ser pago.\n",
        "\n",
        "No programa principal:\n",
        "\n",
        "Peça ao usuário para informar quantos itens ele comprou.\n",
        "Para cada item, solicite o preço e armazene em uma lista.\n",
        "Chame a função e exiba o valor total da compra.\n",
        "\n",
        "Na saída do programa deverá ser assim:\n",
        "\n",
        "Quantos itens você comprou? 3\n",
        "Digite o preço do item 1: 10.50\n",
        "Digite o preço do item 2: 5.20\n",
        "Digite o preço do item 3: 8.30\n",
        "O valor total da compra é: R$ 24.00\n",
        "\n"
      ],
      "metadata": {
        "id": "N28mvgLW2aIL"
      }
    },
    {
      "cell_type": "code",
      "source": [
        "def calcular_total_compra(precos):\n",
        "  total = sum(precos)\n",
        "  return total\n",
        "precos = []\n",
        "quantidade = int(input(\"Quantos itens você comprou? \"))\n",
        "for i in range(quantidade):\n",
        "  preco = float(input(f\"Digite o preço do item {i+1}: \"))\n",
        "  precos.append(preco)\n",
        "  total = calcular_total_compra(precos)\n",
        "print(f\"O valor total da(s) compra(s) foi\",calcular_total_compra(precos))\n"
      ],
      "metadata": {
        "colab": {
          "base_uri": "https://localhost:8080/"
        },
        "id": "hdrJJQUU2fv_",
        "outputId": "b754c722-a473-4b71-e558-6964a3ddaac9"
      },
      "execution_count": 41,
      "outputs": [
        {
          "output_type": "stream",
          "name": "stdout",
          "text": [
            "Quantos itens você comprou? 3\n",
            "Digite o preço do item 1: 10.50\n",
            "Digite o preço do item 2: 5.20\n",
            "Digite o preço do item 3: 8.30\n",
            "O valor total da(s) compra(s) foi 24.0\n"
          ]
        }
      ]
    },
    {
      "cell_type": "markdown",
      "source": [
        "2) Função Sem parâmetro e com retorno\n",
        "\n",
        "Você está organizando uma eleição fictícia com três candidatos. Crie uma função chamada realizar_votacao que:\n",
        "\n",
        "Solicite ao usuário que vote em um dos três candidatos, identificados por números (1, 2 ou 3).\n",
        "Permita que a votação continue até que o usuário digite 0 para encerrar.\n",
        "Ao final, exiba o número total de votos para cada candidato.\n",
        "A função não deve receber parâmetros nem retornar valores; apenas realizar a votação e exibir os resultados no final.\n",
        "\n",
        "Vote no seu candidato:\n",
        "1 - Candidato A\n",
        "2 - Candidato B\n",
        "3 - Candidato C\n",
        "Digite 0 para encerrar.\n",
        "Seu voto: 1\n",
        "Seu voto: 3\n",
        "Seu voto: 2\n",
        "Seu voto: 3\n",
        "Seu voto: 0\n",
        "\n",
        "Resultado da votação:\n",
        "Candidato A: 1 voto(s)\n",
        "Candidato B: 1 voto(s)\n",
        "Candidato C: 2 voto(s)"
      ],
      "metadata": {
        "id": "XowCdYMb2iBk"
      }
    },
    {
      "cell_type": "code",
      "source": [
        "def realizar_votacao():\n",
        " print(\"Vote no seu candidato:\")\n",
        " print(\"1 - Cleiton\")\n",
        " print(\"2 - Cleber\")\n",
        " print(\"3 - Claudio\")\n",
        " print(\"0 - Encerrar\")\n",
        "\n",
        " v1 = 0\n",
        " v2 = 0\n",
        " v3 = 0\n",
        "\n",
        " while True:\n",
        "  voto = int(input(\"Seu voto: \"))\n",
        "  if voto == 1:\n",
        "    v1 += 1\n",
        "  elif voto == 2:\n",
        "    v2 += 1\n",
        "  elif voto == 3:\n",
        "    v3 += 1\n",
        "  elif voto == 0:\n",
        "    print(\"Resultado da votação:\")\n",
        "    print(\"Cleiton:\", v1, \"voto(s)\")\n",
        "    print(\"Cleber:\", v2, \"voto(s)\")\n",
        "    print(\"Claudio:\", v3, \"voto(s)\")\n",
        "    break\n",
        "  else:\n",
        "    print(\"Voto inválido\")\n",
        "\n",
        "\n",
        ""
      ],
      "metadata": {
        "id": "eQm3422x2mgI"
      },
      "execution_count": 49,
      "outputs": []
    },
    {
      "cell_type": "code",
      "source": [
        "realizar_votacao()"
      ],
      "metadata": {
        "colab": {
          "base_uri": "https://localhost:8080/"
        },
        "id": "XW6xKOqg5GBc",
        "outputId": "8f2796e4-6fdf-4c27-d9e2-a0ce61851288"
      },
      "execution_count": 50,
      "outputs": [
        {
          "output_type": "stream",
          "name": "stdout",
          "text": [
            "Vote no seu candidato:\n",
            "1 - Cleiton\n",
            "2 - Cleber\n",
            "3 - Claudio\n",
            "0 - Encerrar\n",
            "Seu voto: 1\n",
            "Seu voto: 2\n",
            "Seu voto: 2\n",
            "Seu voto: 3\n",
            "Seu voto: 3\n",
            "Seu voto: 3\n",
            "Seu voto: 0\n",
            "Resultado da votação:\n",
            "Cleiton: 1 voto(s)\n",
            "Cleber: 2 voto(s)\n",
            "Claudio: 3 voto(s)\n"
          ]
        }
      ]
    }
  ]
}